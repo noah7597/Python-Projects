{
 "cells": [
  {
   "cell_type": "code",
   "execution_count": null,
   "metadata": {},
   "outputs": [],
   "source": [
    "from bs4 import BeautifulSoup\n",
    "from selenium import webdriver\n",
    "import csv\n",
    "import time"
   ]
  },
  {
   "cell_type": "code",
   "execution_count": null,
   "metadata": {},
   "outputs": [],
   "source": [
    "driver = webdriver.Chrome(executable_path =\"/Applications/chromedriver87\")"
   ]
  },
  {
   "cell_type": "code",
   "execution_count": null,
   "metadata": {},
   "outputs": [],
   "source": [
    "url = 'https://www.alibaba.com'\n",
    "driver.get(url)"
   ]
  },
  {
   "cell_type": "code",
   "execution_count": null,
   "metadata": {},
   "outputs": [],
   "source": [
    "def get_url(product):\n",
    "    template = 'https://www.alibaba.com//trade/search?fsb=y&IndexArea=product_en&CatId=&SearchText={}'\n",
    "    return template.format(product)"
   ]
  },
  {
   "cell_type": "code",
   "execution_count": null,
   "metadata": {},
   "outputs": [],
   "source": [
    "first = get_url('xbox')"
   ]
  },
  {
   "cell_type": "code",
   "execution_count": null,
   "metadata": {},
   "outputs": [],
   "source": [
    "driver.get(first)"
   ]
  },
  {
   "cell_type": "code",
   "execution_count": null,
   "metadata": {},
   "outputs": [],
   "source": [
    "soup = BeautifulSoup(driver.page_source, 'html.parser')"
   ]
  },
  {
   "cell_type": "code",
   "execution_count": null,
   "metadata": {},
   "outputs": [],
   "source": [
    "results = soup.find_all('div',{'class':'organic-gallery-offer-outter J-offer-wrapper'})"
   ]
  },
  {
   "cell_type": "code",
   "execution_count": null,
   "metadata": {},
   "outputs": [],
   "source": [
    "len(results)"
   ]
  },
  {
   "cell_type": "code",
   "execution_count": null,
   "metadata": {},
   "outputs": [],
   "source": [
    "item = driver.find_element_by_xpath('//*[@id=\"root\"]/div/div[3]/div[2]/div/div/div/div[1]')"
   ]
  },
  {
   "cell_type": "code",
   "execution_count": null,
   "metadata": {},
   "outputs": [],
   "source": [
    "item.click()"
   ]
  },
  {
   "cell_type": "code",
   "execution_count": null,
   "metadata": {},
   "outputs": [],
   "source": []
  },
  {
   "cell_type": "code",
   "execution_count": null,
   "metadata": {},
   "outputs": [],
   "source": []
  },
  {
   "cell_type": "code",
   "execution_count": null,
   "metadata": {},
   "outputs": [],
   "source": [
    "driver.get('https://www.alibaba.com/product-detail/Xbox-Cheap-Price-2-4G-Wireless_1600181250205.html?spm=a2700.galleryofferlist.normal_offer.d_title.4927121eihS9KB&s=p')"
   ]
  },
  {
   "cell_type": "code",
   "execution_count": null,
   "metadata": {},
   "outputs": [],
   "source": [
    "soup = BeautifulSoup(driver.page_source, 'html.parser')"
   ]
  },
  {
   "cell_type": "code",
   "execution_count": null,
   "metadata": {},
   "outputs": [],
   "source": [
    "name = soup.find('h1',{'class':'ma-title'})"
   ]
  },
  {
   "cell_type": "code",
   "execution_count": null,
   "metadata": {},
   "outputs": [],
   "source": [
    "name = name.text.strip()"
   ]
  },
  {
   "cell_type": "code",
   "execution_count": null,
   "metadata": {},
   "outputs": [],
   "source": [
    "cost_parent = soup.find('li',{'class':'sub-item'})"
   ]
  },
  {
   "cell_type": "code",
   "execution_count": null,
   "metadata": {},
   "outputs": [],
   "source": [
    "cost = cost_parent.find('span',{'class':'sub-item-right'})\n"
   ]
  },
  {
   "cell_type": "code",
   "execution_count": null,
   "metadata": {},
   "outputs": [],
   "source": [
    "cost = cost.text"
   ]
  },
  {
   "cell_type": "code",
   "execution_count": null,
   "metadata": {},
   "outputs": [],
   "source": [
    "ship_parent = soup.find('li',{'class':'sub-item float-action-logistics'})"
   ]
  },
  {
   "cell_type": "code",
   "execution_count": null,
   "metadata": {},
   "outputs": [],
   "source": [
    "ship = ship_parent.find('span',{'class':'animate-number animate-type-scroll'})"
   ]
  },
  {
   "cell_type": "code",
   "execution_count": null,
   "metadata": {},
   "outputs": [],
   "source": [
    "ship = ship.text"
   ]
  },
  {
   "cell_type": "code",
   "execution_count": null,
   "metadata": {},
   "outputs": [],
   "source": [
    "shipping_time = soup.find('span',{'class':'sub-item-name float-shipping-time'})"
   ]
  },
  {
   "cell_type": "code",
   "execution_count": null,
   "metadata": {},
   "outputs": [],
   "source": [
    "shipping_time = shipping_time.text.strip()"
   ]
  },
  {
   "cell_type": "code",
   "execution_count": null,
   "metadata": {},
   "outputs": [],
   "source": [
    "supplier = soup.find('a',{'class':'company-name company-name-lite-vb'})"
   ]
  },
  {
   "cell_type": "code",
   "execution_count": null,
   "metadata": {},
   "outputs": [],
   "source": [
    "supplier = supplier.text.strip()"
   ]
  },
  {
   "cell_type": "code",
   "execution_count": null,
   "metadata": {},
   "outputs": [],
   "source": [
    "supplier_loc_parent = soup.find_all('td',{'class':'field-content-wrap'})\n"
   ]
  },
  {
   "cell_type": "code",
   "execution_count": null,
   "metadata": {},
   "outputs": [],
   "source": [
    "len(supplier_loc_parent)"
   ]
  },
  {
   "cell_type": "code",
   "execution_count": null,
   "metadata": {},
   "outputs": [],
   "source": [
    "supplier_loc = supplier_loc_parent[1].text"
   ]
  },
  {
   "cell_type": "code",
   "execution_count": null,
   "metadata": {},
   "outputs": [],
   "source": [
    "company_type = supplier_loc_parent[0].text"
   ]
  },
  {
   "cell_type": "code",
   "execution_count": null,
   "metadata": {},
   "outputs": [],
   "source": [
    "revenue = supplier_loc_parent[4].text"
   ]
  },
  {
   "cell_type": "code",
   "execution_count": null,
   "metadata": {},
   "outputs": [],
   "source": []
  },
  {
   "cell_type": "code",
   "execution_count": 3,
   "metadata": {},
   "outputs": [],
   "source": [
    "from bs4 import BeautifulSoup\n",
    "from selenium import webdriver\n",
    "import csv\n",
    "import time\n",
    "\n",
    "def get_url(product):\n",
    "    template = 'https://www.alibaba.com//trade/search?fsb=y&IndexArea=product_en&CatId=&SearchText={}'\n",
    "    product = product.replace(' ', \"+\")\n",
    "    return template.format(product)\n",
    "\n",
    "def extract_data(soup):\n",
    "        \n",
    "    try:\n",
    "        name = soup.find('h1',{'class':'ma-title'}).text.strip()\n",
    "    except AttributeError:\n",
    "        return\n",
    "     \n",
    "    try:\n",
    "        cost_parent = soup.find('li',{'class':'sub-item'})\n",
    "        cost = cost_parent.find('span',{'class':'sub-item-right'}).text\n",
    "    except:\n",
    "        cost_parent = ''\n",
    "        cost = ''\n",
    "    \n",
    "    try:\n",
    "        ship_parent = soup.find('li',{'class':'sub-item float-action-logistics'})\n",
    "        ship = ship_parent.find('span',{'class':'animate-number animate-type-scroll'}).text\n",
    "    except:\n",
    "        ship_parent = ''\n",
    "        ship = ''\n",
    "    \n",
    "    try:    \n",
    "        shipping_time = soup.find('span',{'class':'sub-item-name float-shipping-time'}).text.strip()\n",
    "    except:\n",
    "        shipping_time = ''\n",
    "    \n",
    "    try:\n",
    "        supplier = soup.find('a',{'class':'company-name company-name-lite-vb'}).text.strip()\n",
    "    except:\n",
    "        supplier = ''\n",
    "    \n",
    "    try:\n",
    "        supplier_loc_parent = soup.find_all('td',{'class':'field-content-wrap'})\n",
    "        supplier_loc = supplier_loc_parent[1].text\n",
    "    except:\n",
    "        supplier_loc_parent = ''\n",
    "        supplier_loc = ''\n",
    "        \n",
    "    try:\n",
    "        supplier_loc_parent = soup.find_all('td',{'class':'field-content-wrap'})\n",
    "        company_type = supplier_loc_parent[0].text\n",
    "    except:\n",
    "        supplier_loc_parent = ''\n",
    "        company_type = ''\n",
    "    try:\n",
    "        supplier_loc_parent = soup.find_all('td',{'class':'field-content-wrap'})\n",
    "        revenue = supplier_loc_parent[4].text\n",
    "    except:\n",
    "        supplier_loc_parent = ''\n",
    "        revenue = ''\n",
    "        \n",
    "    \n",
    "    data = (name, cost, ship, shipping_time, supplier, supplier_loc, company_type, revenue)\n",
    "        \n",
    "    return data\n",
    "\n",
    "def main(search_term):\n",
    "    driver = webdriver.Chrome(executable_path =\"/Applications/chromedriver87\")\n",
    "    time.sleep(2)\n",
    "    url = get_url(search_term)\n",
    "    driver.get(url)\n",
    "    \n",
    "    records = []\n",
    "\n",
    "    for page in range(1):\n",
    "        \n",
    "        soup = BeautifulSoup(driver.page_source, 'html.parser')\n",
    "        results = soup.find_all('div',{'class':'organic-gallery-offer-outter J-offer-wrapper'})\n",
    "        url = soup.find_all('a',{'class':'elements-title-normal'})\n",
    "        time.sleep(2)\n",
    "        \n",
    "        for item in range(1, 4):\n",
    "            #xpath = '//*[@id=\"root\"]/div/div[3]/div[2]/div/div/div/div[' + str(item) +']/div/div[1]/h4/a/p'\n",
    "            #link = driver.find_element_by_xpath(xpath)\n",
    "            #link.click()\n",
    "            home = driver.current_url\n",
    "            link_one = 'https:' + url[item].get('href') + '?spm=a2700.galleryofferlist.topad_creative.d_title.20e549f0QNnjE1'\n",
    "            \n",
    "            \n",
    "            driver.get(link_one)\n",
    "            \n",
    "            time.sleep(5)\n",
    "            \n",
    "            soup = BeautifulSoup(driver.page_source, 'html.parser')\n",
    "            \n",
    "            record = extract_data(soup)\n",
    "            if record:\n",
    "                records.append(record)\n",
    "                    \n",
    "            time.sleep(5)\n",
    "            \n",
    "            #window_name_two = driver.window_handles[1]\n",
    "            #driver.switch_to.window(window_name=window_name_two)\n",
    "            #driver.close()\n",
    "            \n",
    "            #window_name_one = driver.window_handles[0]\n",
    "            #driver.switch_to.window(window_name=window_name_one)\n",
    "            \n",
    "            driver.get(home)\n",
    "            time.sleep(4)\n",
    "            \n",
    "    #driver.close()\n",
    "    \n",
    "    with open('/Users/noahhallberg/Desktop/WebScraping/Alibaba Web Scraping/alibaba.csv', 'w', newline='', encoding='utf-8') as f:\n",
    "        writer = csv.writer(f)\n",
    "        writer.writerow(['Product', 'Cost', 'Shipping Cost', 'Shipping Time', 'Supplier', 'Supplier Location','Company Type','Company Revenue'])\n",
    "        writer.writerows(records) "
   ]
  },
  {
   "cell_type": "code",
   "execution_count": 4,
   "metadata": {},
   "outputs": [],
   "source": [
    "main('breakfast cereal')"
   ]
  },
  {
   "cell_type": "code",
   "execution_count": null,
   "metadata": {},
   "outputs": [],
   "source": [
    "driver = webdriver.Chrome(executable_path =\"/Applications/chromedriver87\")\n",
    "driver.get('https://www.alibaba.com//trade/search?fsb=y&IndexArea=product_en&CatId=&SearchText=cereal')\n",
    "soup = BeautifulSoup(driver.page_source, 'html.parser')\n"
   ]
  },
  {
   "cell_type": "code",
   "execution_count": null,
   "metadata": {},
   "outputs": [],
   "source": [
    "url = soup.find('a',{'class':'elements-title-normal'})"
   ]
  },
  {
   "cell_type": "code",
   "execution_count": null,
   "metadata": {},
   "outputs": [],
   "source": [
    "'https:' + url.get('href') + '?spm=a2700.galleryofferlist.topad_creative.d_title.20e549f0QNnjE1'"
   ]
  },
  {
   "cell_type": "code",
   "execution_count": null,
   "metadata": {},
   "outputs": [],
   "source": [
    "'//www.alibaba.com/product-detail/Cereal-Cereal-High-Fibre-Rye-Cereal_62468652481.html?spm=a2700.galleryofferlist.topad_creative.d_title.20e549f0QNnjE1'\n",
    "\n",
    "'https://www.alibaba.com/product-detail/Cereal-Cereal-High-Fibre-Rye-Cereal_62468652481.html?spm=a2700.galleryofferlist.topad_creative.d_title.20e549f0QNnjE1'\n"
   ]
  },
  {
   "cell_type": "code",
   "execution_count": null,
   "metadata": {},
   "outputs": [],
   "source": [
    "url_all = soup.find_all('a',{'class':'elements-title-normal'})"
   ]
  },
  {
   "cell_type": "code",
   "execution_count": null,
   "metadata": {},
   "outputs": [],
   "source": [
    "url_all[2].get('href')"
   ]
  },
  {
   "cell_type": "code",
   "execution_count": null,
   "metadata": {},
   "outputs": [],
   "source": [
    "//www.alibaba.com/product-detail/Breakfast-Cereal-Cereal-Wholesale-Healthy-Instant_1600173421898.html?spm=a2700.galleryofferlist.normal_offer.d_title.55c04ff3IK1ywj&amp;s=p\n",
    "\n",
    "//www.alibaba.com/product-detail/Breakfast-Cereal-Cereal-Durable-Using-Low_1600172201320.html?spm=a2700.galleryofferlist.normal_offer.d_title.55c04ff3IK1ywj&amp;s=p\n"
   ]
  }
 ],
 "metadata": {
  "kernelspec": {
   "display_name": "Python 3",
   "language": "python",
   "name": "python3"
  },
  "language_info": {
   "codemirror_mode": {
    "name": "ipython",
    "version": 3
   },
   "file_extension": ".py",
   "mimetype": "text/x-python",
   "name": "python",
   "nbconvert_exporter": "python",
   "pygments_lexer": "ipython3",
   "version": "3.7.3"
  }
 },
 "nbformat": 4,
 "nbformat_minor": 2
}
